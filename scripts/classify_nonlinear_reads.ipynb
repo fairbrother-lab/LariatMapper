{
 "cells": [
  {
   "cell_type": "code",
   "execution_count": 1,
   "metadata": {},
   "outputs": [],
   "source": [
    "import gzip\n",
    "import itertools as it\n",
    "import os\n",
    "\n",
    "import pysam\n",
    "import numpy as np\n",
    "import pandas as pd\n",
    "from intervaltree import Interval, IntervalTree"
   ]
  },
  {
   "cell_type": "code",
   "execution_count": 2,
   "metadata": {},
   "outputs": [],
   "source": [
    "CLASS_AND_STEP = (\n",
    "\t\t\t\t('Lariat', 'Lariat filtering'),\n",
    "\t\t\t\t('Circularized intron', 'Lariat filtering'),\n",
    "\t\t\t\t('Template-switching', 'Lariat filtering'),\n",
    "\t\t\t\t('In repetitive region', 'Lariat filtering'),\n",
    "\t\t\t\t(\"Unmapped, with 5'ss alignment\", 'Trimmed alignment filtering'),\n",
    "\t\t\t\t(\"Unmapped, with 5'ss alignment\", 'Trimmed read mapping'),\n",
    "\t\t\t\t(\"Unmapped, with 5'ss alignment\", \"5'ss alignment filtering\"),\n",
    "\t\t\t\t(\"Unmapped\", \"5'ss mapping\")\n",
    "\t\t\t\t  )"
   ]
  },
  {
   "cell_type": "code",
   "execution_count": 3,
   "metadata": {},
   "outputs": [],
   "source": [
    "def exclude_classed_reads(read_ids:np.array, read_classes) -> np.array:\n",
    "\tprint('Starting:', len(read_ids))\n",
    "\tclassed_rids = [row[0] for row in read_classes]\n",
    "\tkeep = np.isin(read_ids, classed_rids, assume_unique=True, invert=True)\n",
    "\tread_ids = read_ids[keep]\n",
    "\tprint('Post-filter:', len(read_ids))\n",
    "\n",
    "\treturn read_ids"
   ]
  },
  {
   "cell_type": "code",
   "execution_count": 4,
   "metadata": {},
   "outputs": [],
   "source": [
    "# # Get args\n",
    "# ref_exons, ref_introns, output_base, log_level = sys.argv[1:]\n",
    "# # Get logger\n",
    "# log = functions.get_logger(log_level)\n",
    "# log.debug(f'Args recieved: {sys.argv[1:]}')\n",
    "\n",
    "ref_exons = '/Users/trumanmooney/Library/CloudStorage/OneDrive-BrownUniversity/Documents/Projects/Lariat_mapping/reference_data/hg38_ref/exons.tsv.gz'\n",
    "ref_introns = '/Users/trumanmooney/Library/CloudStorage/OneDrive-BrownUniversity/Documents/Projects/Lariat_mapping/reference_data/hg38_ref/introns.tsv.gz'\n",
    "single_end = False\n",
    "output_base = '/Users/trumanmooney/Library/CloudStorage/OneDrive-BrownUniversity/Documents/Projects/Lariat_mapping/output/pipeline/C22-1_100k/'"
   ]
  },
  {
   "cell_type": "code",
   "execution_count": 5,
   "metadata": {},
   "outputs": [],
   "source": [
    "read_classes = []"
   ]
  },
  {
   "cell_type": "code",
   "execution_count": 6,
   "metadata": {},
   "outputs": [],
   "source": [
    "lariat = pd.read_csv(f'{output_base}lariat_reads.tsv', sep='\\t', usecols=[0]).read_id.unique()\n",
    "lariat = [[read_id, 'Lariat', 'Lariat filtering'] for read_id in lariat] \n",
    "read_classes.extend(lariat) "
   ]
  },
  {
   "cell_type": "code",
   "execution_count": 7,
   "metadata": {},
   "outputs": [],
   "source": [
    "circular = pd.read_csv(f'{output_base}circularized_intron_reads.tsv', sep='\\t', usecols=[0]).read_id.unique()\n",
    "circular = [[read_id, 'Circularized intron', 'Lariat filtering'] for read_id in circular] \n",
    "read_classes.extend(circular) "
   ]
  },
  {
   "cell_type": "code",
   "execution_count": 8,
   "metadata": {},
   "outputs": [],
   "source": [
    "temp_switch = pd.read_csv(f'{output_base}template_switching_reads.tsv', sep='\\t', usecols=[0]).read_id.unique()\n",
    "temp_switch = [[read_id, 'Template-switching', 'Lariat filtering'] for read_id in temp_switch] \n",
    "read_classes.extend(temp_switch) "
   ]
  },
  {
   "cell_type": "code",
   "execution_count": 9,
   "metadata": {},
   "outputs": [
    {
     "name": "stdout",
     "output_type": "stream",
     "text": [
      "Starting: 0\n",
      "Post-filter: 0\n"
     ]
    }
   ],
   "source": [
    "lariat_failed = pd.read_csv(f'{output_base}failed_lariat_alignments.tsv', sep='\\t')\n",
    "lariat_failed = lariat_failed.loc[lariat_failed.filter_failed=='in_repeat', 'read_id'].unique()\n",
    "lariat_failed = exclude_classed_reads(lariat_failed, read_classes)\n",
    "lariat_failed = [[read_id, 'In repetitive region', 'Lariat filtering'] for read_id in lariat_failed] \n",
    "read_classes.extend(lariat_failed) "
   ]
  },
  {
   "cell_type": "code",
   "execution_count": 10,
   "metadata": {},
   "outputs": [
    {
     "name": "stdout",
     "output_type": "stream",
     "text": [
      "Starting: 2567\n",
      "Post-filter: 1462\n"
     ]
    }
   ],
   "source": [
    "trim_failed = pd.read_csv(f'{output_base}failed_trimmed_alignments.tsv', sep='\\t', usecols=[0]).read_id\n",
    "trim_failed = trim_failed.str.slice(0,-6).unique()\n",
    "trim_failed = exclude_classed_reads(trim_failed, read_classes)\n",
    "trim_failed = [[read_id, \"Unmapped, with 5'ss alignment\", 'Trimmed alignment filtering'] for read_id in trim_failed] \n",
    "read_classes.extend(trim_failed) "
   ]
  },
  {
   "cell_type": "code",
   "execution_count": 11,
   "metadata": {},
   "outputs": [
    {
     "name": "stdout",
     "output_type": "stream",
     "text": [
      "Starting: 5769\n",
      "Post-filter: 2868\n"
     ]
    }
   ],
   "source": [
    "fivep_passed = pd.read_csv(f'{output_base}fivep_info_table.tsv', sep='\\t', usecols=[0]).read_id\n",
    "fivep_passed = fivep_passed.str.slice(0,-6).unique()\n",
    "fivep_passed = exclude_classed_reads(fivep_passed, read_classes)\n",
    "fivep_passed = [[read_id, \"Unmapped, with 5'ss alignment\", 'Trimmed read mapping'] for read_id in fivep_passed]\n",
    "read_classes.extend(fivep_passed) "
   ]
  },
  {
   "cell_type": "code",
   "execution_count": 12,
   "metadata": {},
   "outputs": [
    {
     "name": "stdout",
     "output_type": "stream",
     "text": [
      "Starting: 4606\n",
      "Post-filter: 160\n"
     ]
    }
   ],
   "source": [
    "fivep_failed = pd.read_csv(f'{output_base}failed_fivep_alignments.tsv', sep='\\t', usecols=[0]).read_id\n",
    "fivep_failed = fivep_failed.str.slice(0,-2).unique()\n",
    "fivep_failed = exclude_classed_reads(fivep_failed, read_classes)\n",
    "fivep_failed = [[read_id, \"Unmapped, with 5'ss alignment\", \"5'ss alignment filtering\"] for read_id in fivep_failed]\n",
    "read_classes.extend(fivep_failed)"
   ]
  },
  {
   "cell_type": "code",
   "execution_count": 13,
   "metadata": {},
   "outputs": [
    {
     "name": "stdout",
     "output_type": "stream",
     "text": [
      "Starting: 45116\n",
      "Post-filter: 39187\n"
     ]
    }
   ],
   "source": [
    "unmapped_reads = set()\n",
    "with open(f'{output_base}/unmapped_reads.fa') as r:\n",
    "\tfor line in r:\n",
    "\t\trid = line[1:-3]\n",
    "\t\tunmapped_reads.add(rid)\n",
    "\t\tr.readline()\n",
    "\n",
    "unmapped_reads = np.asarray(list(unmapped_reads))\n",
    "og_count = len(unmapped_reads)\n",
    "unmapped_reads = exclude_classed_reads(unmapped_reads, read_classes)\n",
    "unmapped_reads = [[read_id, \"Unmapped\", \"5'ss mapping\"] for read_id in unmapped_reads]\n",
    "read_classes.extend(unmapped_reads)"
   ]
  },
  {
   "cell_type": "code",
   "execution_count": 14,
   "metadata": {},
   "outputs": [],
   "source": [
    "# for group_a, group_b in it.combinations(read_classes.keys(), 2):\n",
    "\t# assert any(np.isin(read_classes[group_a], read_classes[group_b], assume_unique=True)) is False, f'{group_a} and {group_b}'"
   ]
  },
  {
   "cell_type": "code",
   "execution_count": 15,
   "metadata": {},
   "outputs": [
    {
     "name": "stdout",
     "output_type": "stream",
     "text": [
      "read_class\n",
      "Unmapped                         39187\n",
      "Unmapped, with 5'ss alignment     4490\n",
      "Template-switching                1433\n",
      "Lariat                               6\n",
      "Name: count, dtype: int64\n",
      "stage_reached\n",
      "5'ss mapping                   39187\n",
      "Trimmed read mapping            2868\n",
      "Trimmed alignment filtering     1462\n",
      "Lariat filtering                1439\n",
      "5'ss alignment filtering         160\n",
      "Name: count, dtype: int64\n"
     ]
    },
    {
     "data": {
      "text/html": [
       "<div>\n",
       "<style scoped>\n",
       "    .dataframe tbody tr th:only-of-type {\n",
       "        vertical-align: middle;\n",
       "    }\n",
       "\n",
       "    .dataframe tbody tr th {\n",
       "        vertical-align: top;\n",
       "    }\n",
       "\n",
       "    .dataframe thead th {\n",
       "        text-align: right;\n",
       "    }\n",
       "</style>\n",
       "<table border=\"1\" class=\"dataframe\">\n",
       "  <thead>\n",
       "    <tr style=\"text-align: right;\">\n",
       "      <th></th>\n",
       "      <th>read_id</th>\n",
       "      <th>read_class</th>\n",
       "      <th>stage_reached</th>\n",
       "      <th>spliced</th>\n",
       "    </tr>\n",
       "  </thead>\n",
       "  <tbody>\n",
       "    <tr>\n",
       "      <th>0</th>\n",
       "      <td>NGSNJ-086:229:GW200110425th:1:1101:15582:16830</td>\n",
       "      <td>Lariat</td>\n",
       "      <td>Lariat filtering</td>\n",
       "      <td>NaN</td>\n",
       "    </tr>\n",
       "    <tr>\n",
       "      <th>1</th>\n",
       "      <td>NGSNJ-086:229:GW200110425th:1:1101:2166:13448</td>\n",
       "      <td>Lariat</td>\n",
       "      <td>Lariat filtering</td>\n",
       "      <td>NaN</td>\n",
       "    </tr>\n",
       "    <tr>\n",
       "      <th>2</th>\n",
       "      <td>NGSNJ-086:229:GW200110425th:1:1101:24551:5713</td>\n",
       "      <td>Lariat</td>\n",
       "      <td>Lariat filtering</td>\n",
       "      <td>NaN</td>\n",
       "    </tr>\n",
       "    <tr>\n",
       "      <th>3</th>\n",
       "      <td>NGSNJ-086:229:GW200110425th:1:1101:30291:23797</td>\n",
       "      <td>Lariat</td>\n",
       "      <td>Lariat filtering</td>\n",
       "      <td>NaN</td>\n",
       "    </tr>\n",
       "    <tr>\n",
       "      <th>4</th>\n",
       "      <td>NGSNJ-086:229:GW200110425th:1:1101:5394:15374</td>\n",
       "      <td>Lariat</td>\n",
       "      <td>Lariat filtering</td>\n",
       "      <td>NaN</td>\n",
       "    </tr>\n",
       "    <tr>\n",
       "      <th>...</th>\n",
       "      <td>...</td>\n",
       "      <td>...</td>\n",
       "      <td>...</td>\n",
       "      <td>...</td>\n",
       "    </tr>\n",
       "    <tr>\n",
       "      <th>45111</th>\n",
       "      <td>NGSNJ-086:229:GW200110425th:1:1101:7726:17284</td>\n",
       "      <td>Unmapped</td>\n",
       "      <td>5'ss mapping</td>\n",
       "      <td>NaN</td>\n",
       "    </tr>\n",
       "    <tr>\n",
       "      <th>45112</th>\n",
       "      <td>NGSNJ-086:229:GW200110425th:1:1101:25518:27712</td>\n",
       "      <td>Unmapped</td>\n",
       "      <td>5'ss mapping</td>\n",
       "      <td>NaN</td>\n",
       "    </tr>\n",
       "    <tr>\n",
       "      <th>45113</th>\n",
       "      <td>NGSNJ-086:229:GW200110425th:1:1101:15745:10535</td>\n",
       "      <td>Unmapped</td>\n",
       "      <td>5'ss mapping</td>\n",
       "      <td>NaN</td>\n",
       "    </tr>\n",
       "    <tr>\n",
       "      <th>45114</th>\n",
       "      <td>NGSNJ-086:229:GW200110425th:1:1101:4119:15013</td>\n",
       "      <td>Unmapped</td>\n",
       "      <td>5'ss mapping</td>\n",
       "      <td>NaN</td>\n",
       "    </tr>\n",
       "    <tr>\n",
       "      <th>45115</th>\n",
       "      <td>NGSNJ-086:229:GW200110425th:1:1101:15980:7059</td>\n",
       "      <td>Unmapped</td>\n",
       "      <td>5'ss mapping</td>\n",
       "      <td>NaN</td>\n",
       "    </tr>\n",
       "  </tbody>\n",
       "</table>\n",
       "<p>45116 rows × 4 columns</p>\n",
       "</div>"
      ],
      "text/plain": [
       "                                              read_id read_class  \\\n",
       "0      NGSNJ-086:229:GW200110425th:1:1101:15582:16830     Lariat   \n",
       "1       NGSNJ-086:229:GW200110425th:1:1101:2166:13448     Lariat   \n",
       "2       NGSNJ-086:229:GW200110425th:1:1101:24551:5713     Lariat   \n",
       "3      NGSNJ-086:229:GW200110425th:1:1101:30291:23797     Lariat   \n",
       "4       NGSNJ-086:229:GW200110425th:1:1101:5394:15374     Lariat   \n",
       "...                                               ...        ...   \n",
       "45111   NGSNJ-086:229:GW200110425th:1:1101:7726:17284   Unmapped   \n",
       "45112  NGSNJ-086:229:GW200110425th:1:1101:25518:27712   Unmapped   \n",
       "45113  NGSNJ-086:229:GW200110425th:1:1101:15745:10535   Unmapped   \n",
       "45114   NGSNJ-086:229:GW200110425th:1:1101:4119:15013   Unmapped   \n",
       "45115   NGSNJ-086:229:GW200110425th:1:1101:15980:7059   Unmapped   \n",
       "\n",
       "          stage_reached  spliced  \n",
       "0      Lariat filtering      NaN  \n",
       "1      Lariat filtering      NaN  \n",
       "2      Lariat filtering      NaN  \n",
       "3      Lariat filtering      NaN  \n",
       "4      Lariat filtering      NaN  \n",
       "...                 ...      ...  \n",
       "45111      5'ss mapping      NaN  \n",
       "45112      5'ss mapping      NaN  \n",
       "45113      5'ss mapping      NaN  \n",
       "45114      5'ss mapping      NaN  \n",
       "45115      5'ss mapping      NaN  \n",
       "\n",
       "[45116 rows x 4 columns]"
      ]
     },
     "execution_count": 15,
     "metadata": {},
     "output_type": "execute_result"
    }
   ],
   "source": [
    "read_classes = pd.DataFrame(read_classes, columns=['read_id', 'read_class', 'stage_reached'])\n",
    "read_classes['spliced'] = np.nan\n",
    "print(read_classes.read_class.value_counts())\n",
    "print(read_classes.stage_reached.value_counts())\n",
    "read_classes"
   ]
  },
  {
   "cell_type": "code",
   "execution_count": 16,
   "metadata": {},
   "outputs": [],
   "source": [
    "assert read_classes.read_id.is_unique\n",
    "assert len(read_classes) == og_count\n",
    "if not os.path.isfile(f'{output_base}read_classes.tsv'):\n",
    "\traise RuntimeError()"
   ]
  },
  {
   "cell_type": "code",
   "execution_count": 17,
   "metadata": {},
   "outputs": [],
   "source": [
    "read_classes.to_csv(f'{output_base}read_classes.tsv', sep='\\t', mode='a', index=False, header=False, na_rep='N/A')"
   ]
  }
 ],
 "metadata": {
  "kernelspec": {
   "display_name": "truth",
   "language": "python",
   "name": "python3"
  },
  "language_info": {
   "codemirror_mode": {
    "name": "ipython",
    "version": 3
   },
   "file_extension": ".py",
   "mimetype": "text/x-python",
   "name": "python",
   "nbconvert_exporter": "python",
   "pygments_lexer": "ipython3",
   "version": "3.10.14"
  }
 },
 "nbformat": 4,
 "nbformat_minor": 2
}
