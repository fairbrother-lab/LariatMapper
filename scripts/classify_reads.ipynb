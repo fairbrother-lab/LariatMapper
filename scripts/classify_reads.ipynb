{
 "cells": [
  {
   "cell_type": "code",
   "execution_count": 2,
   "metadata": {},
   "outputs": [],
   "source": [
    "import gzip\n",
    "\n",
    "import pysam\n",
    "import numpy as np\n",
    "import pandas as pd\n",
    "from intervaltree import Interval, IntervalTree"
   ]
  },
  {
   "cell_type": "code",
   "execution_count": null,
   "metadata": {},
   "outputs": [],
   "source": [
    "ref_introns = '/datasets2/lariat_mapping/testing/output/test_ref/introns.tsv.gz'\n",
    "output_base = '/datasets2/lariat_mapping/testing/100k_truncs/C22-1/'"
   ]
  },
  {
   "cell_type": "code",
   "execution_count": 3,
   "metadata": {},
   "outputs": [
    {
     "data": {
      "text/html": [
       "<div>\n",
       "<style scoped>\n",
       "    .dataframe tbody tr th:only-of-type {\n",
       "        vertical-align: middle;\n",
       "    }\n",
       "\n",
       "    .dataframe tbody tr th {\n",
       "        vertical-align: top;\n",
       "    }\n",
       "\n",
       "    .dataframe thead th {\n",
       "        text-align: right;\n",
       "    }\n",
       "</style>\n",
       "<table border=\"1\" class=\"dataframe\">\n",
       "  <thead>\n",
       "    <tr style=\"text-align: right;\">\n",
       "      <th></th>\n",
       "      <th>chrom</th>\n",
       "      <th>strand</th>\n",
       "      <th>start</th>\n",
       "      <th>end</th>\n",
       "      <th>gene_id</th>\n",
       "    </tr>\n",
       "  </thead>\n",
       "  <tbody>\n",
       "    <tr>\n",
       "      <th>0</th>\n",
       "      <td>chr1</td>\n",
       "      <td>+</td>\n",
       "      <td>12227</td>\n",
       "      <td>12612</td>\n",
       "      <td>ENSG00000290825.1</td>\n",
       "    </tr>\n",
       "    <tr>\n",
       "      <th>1</th>\n",
       "      <td>chr1</td>\n",
       "      <td>+</td>\n",
       "      <td>12721</td>\n",
       "      <td>13220</td>\n",
       "      <td>ENSG00000290825.1</td>\n",
       "    </tr>\n",
       "    <tr>\n",
       "      <th>2</th>\n",
       "      <td>chr1</td>\n",
       "      <td>+</td>\n",
       "      <td>30039</td>\n",
       "      <td>30563</td>\n",
       "      <td>ENSG00000243485.5</td>\n",
       "    </tr>\n",
       "    <tr>\n",
       "      <th>3</th>\n",
       "      <td>chr1</td>\n",
       "      <td>+</td>\n",
       "      <td>30667</td>\n",
       "      <td>30975</td>\n",
       "      <td>ENSG00000243485.5</td>\n",
       "    </tr>\n",
       "    <tr>\n",
       "      <th>4</th>\n",
       "      <td>chr1</td>\n",
       "      <td>+</td>\n",
       "      <td>57653</td>\n",
       "      <td>58699</td>\n",
       "      <td>ENSG00000290826.1</td>\n",
       "    </tr>\n",
       "    <tr>\n",
       "      <th>...</th>\n",
       "      <td>...</td>\n",
       "      <td>...</td>\n",
       "      <td>...</td>\n",
       "      <td>...</td>\n",
       "      <td>...</td>\n",
       "    </tr>\n",
       "    <tr>\n",
       "      <th>389596</th>\n",
       "      <td>chrY</td>\n",
       "      <td>-</td>\n",
       "      <td>25378815</td>\n",
       "      <td>25378819</td>\n",
       "      <td>ENSG00000228786.5</td>\n",
       "    </tr>\n",
       "    <tr>\n",
       "      <th>389597</th>\n",
       "      <td>chrY</td>\n",
       "      <td>-</td>\n",
       "      <td>25378878</td>\n",
       "      <td>25386916</td>\n",
       "      <td>ENSG00000228786.5</td>\n",
       "    </tr>\n",
       "    <tr>\n",
       "      <th>389598</th>\n",
       "      <td>chrY</td>\n",
       "      <td>-</td>\n",
       "      <td>25387085</td>\n",
       "      <td>25391260</td>\n",
       "      <td>ENSG00000228786.5</td>\n",
       "    </tr>\n",
       "    <tr>\n",
       "      <th>389599</th>\n",
       "      <td>chrY</td>\n",
       "      <td>-</td>\n",
       "      <td>25387085</td>\n",
       "      <td>25394625</td>\n",
       "      <td>ENSG00000228786.5</td>\n",
       "    </tr>\n",
       "    <tr>\n",
       "      <th>389600</th>\n",
       "      <td>chrY</td>\n",
       "      <td>-</td>\n",
       "      <td>57202020</td>\n",
       "      <td>57203181</td>\n",
       "      <td>ENSG00000292370.1</td>\n",
       "    </tr>\n",
       "  </tbody>\n",
       "</table>\n",
       "<p>389601 rows × 5 columns</p>\n",
       "</div>"
      ],
      "text/plain": [
       "       chrom strand     start       end            gene_id\n",
       "0       chr1      +     12227     12612  ENSG00000290825.1\n",
       "1       chr1      +     12721     13220  ENSG00000290825.1\n",
       "2       chr1      +     30039     30563  ENSG00000243485.5\n",
       "3       chr1      +     30667     30975  ENSG00000243485.5\n",
       "4       chr1      +     57653     58699  ENSG00000290826.1\n",
       "...      ...    ...       ...       ...                ...\n",
       "389596  chrY      -  25378815  25378819  ENSG00000228786.5\n",
       "389597  chrY      -  25378878  25386916  ENSG00000228786.5\n",
       "389598  chrY      -  25387085  25391260  ENSG00000228786.5\n",
       "389599  chrY      -  25387085  25394625  ENSG00000228786.5\n",
       "389600  chrY      -  57202020  57203181  ENSG00000292370.1\n",
       "\n",
       "[389601 rows x 5 columns]"
      ]
     },
     "execution_count": 3,
     "metadata": {},
     "output_type": "execute_result"
    }
   ],
   "source": [
    "introns = pd.read_csv(ref_introns, sep='\\t')\n",
    "introns"
   ]
  },
  {
   "cell_type": "code",
   "execution_count": 5,
   "metadata": {},
   "outputs": [
    {
     "data": {
      "text/plain": [
       "0"
      ]
     },
     "execution_count": 5,
     "metadata": {},
     "output_type": "execute_result"
    }
   ],
   "source": [
    "introns['interval'] = introns[['start', 'end', ]].apply(Interval)\n",
    "introns"
   ]
  },
  {
   "cell_type": "code",
   "execution_count": 4,
   "metadata": {},
   "outputs": [
    {
     "ename": "NameError",
     "evalue": "name 'output_base' is not defined",
     "output_type": "error",
     "traceback": [
      "\u001b[0;31m---------------------------------------------------------------------------\u001b[0m",
      "\u001b[0;31mNameError\u001b[0m                                 Traceback (most recent call last)",
      "Cell \u001b[0;32mIn[4], line 3\u001b[0m\n\u001b[1;32m      1\u001b[0m linear_reads \u001b[38;5;241m=\u001b[39m []\n\u001b[1;32m      2\u001b[0m unmapped_rids \u001b[38;5;241m=\u001b[39m \u001b[38;5;28mset\u001b[39m()\n\u001b[0;32m----> 3\u001b[0m \u001b[38;5;28;01mfor\u001b[39;00m align \u001b[38;5;129;01min\u001b[39;00m pysam\u001b[38;5;241m.\u001b[39mAlignmentFile(\u001b[38;5;124mf\u001b[39m\u001b[38;5;124m'\u001b[39m\u001b[38;5;132;01m{\u001b[39;00m\u001b[43moutput_base\u001b[49m\u001b[38;5;132;01m}\u001b[39;00m\u001b[38;5;124m/mapped_reads.bam\u001b[39m\u001b[38;5;124m'\u001b[39m, \u001b[38;5;124m'\u001b[39m\u001b[38;5;124mrb\u001b[39m\u001b[38;5;124m'\u001b[39m):\n\u001b[1;32m      4\u001b[0m \t\u001b[38;5;28;01mif\u001b[39;00m align\u001b[38;5;241m.\u001b[39mis_unmapped:\n\u001b[1;32m      5\u001b[0m \t\tunmapped_rids\u001b[38;5;241m.\u001b[39madd(align\u001b[38;5;241m.\u001b[39mquery_name)\n",
      "\u001b[0;31mNameError\u001b[0m: name 'output_base' is not defined"
     ]
    }
   ],
   "source": [
    "linear_reads = []\n",
    "unmapped_rids = set()\n",
    "for align in pysam.AlignmentFile(f'{output_base}/mapped_reads.bam', 'rb'):\n",
    "\tif align.is_unmapped:\n",
    "\t\tunmapped_rids.add(align.query_name)\n",
    "\t\tcontinue\n",
    "\n",
    "\tlinear_reads.append([\n",
    "\t\t\t\t\talign.query_name, \n",
    "\t\t\t\t\talign.reference_name, \n",
    "\t\t\t\t\t# align.reference_start,\n",
    "\t\t\t\t\t# align.reference_end, \n",
    "\t\t\t\t\talign.get_blocks(),\n",
    "\t\t\t\t\talign.cigartuples,\n",
    "\t\t\t\t\t# align.get_tags(),\n",
    "\t\t\t\t\talign.is_read1,\n",
    "\t\t\t\t\t])\n",
    "\n",
    "linear_reads = pd.DataFrame(linear_reads, columns=LINEAR_COLUMNS)\n",
    "linear_reads.cigar = linear_reads.cigar.transform(lambda cigar: tuple((CIGARTUPLE_CODES[op],length) for op, length in cigar))\n",
    "# linear_reads.tags = linear_reads.tags.transform(lambda tags: {tag: val for tag, val in tags})\n",
    "if single_end is False:\n",
    "\tlinear_reads.read = linear_reads.read.map({True: '1', False: '2'})\n",
    "\tlinear_reads['read_id'] = linear_reads.read_id + '/' + linear_reads.read\n",
    "assert linear_reads.read_id.is_unique\n",
    "linear_reads = linear_reads.sort_values(['read_id'])\n",
    "linear_reads"
   ]
  }
 ],
 "metadata": {
  "kernelspec": {
   "display_name": "truth",
   "language": "python",
   "name": "python3"
  },
  "language_info": {
   "codemirror_mode": {
    "name": "ipython",
    "version": 3
   },
   "file_extension": ".py",
   "mimetype": "text/x-python",
   "name": "python",
   "nbconvert_exporter": "python",
   "pygments_lexer": "ipython3",
   "version": "3.10.14"
  }
 },
 "nbformat": 4,
 "nbformat_minor": 2
}
